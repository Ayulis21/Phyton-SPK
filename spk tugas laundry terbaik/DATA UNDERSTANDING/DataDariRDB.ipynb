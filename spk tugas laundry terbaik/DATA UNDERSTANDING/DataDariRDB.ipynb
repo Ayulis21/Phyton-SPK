{
 "cells": [
  {
   "cell_type": "code",
   "execution_count": 13,
   "metadata": {},
   "outputs": [
    {
     "name": "stdout",
     "output_type": "stream",
     "text": [
      "   id  id_jenis_layanan  id_pelanggan  id_status_laundry  total_harga  \\\n",
      "0   2                 5             3                  3            0   \n",
      "1   3                 6             5                  1            0   \n",
      "2   4                 6             4                  1            0   \n",
      "3   5                 7             6                  2            0   \n",
      "4   6                 4             4                  1            0   \n",
      "\n",
      "  waktu_pesanan_datang  berat status_pembayaran    estimasi_selesai  diskon  \\\n",
      "0  2024-03-17 09:03:04    0.0             belum 2025-01-29 08:01:44     0.0   \n",
      "1                  NaT    0.0             belum 2025-06-19 06:06:54     0.0   \n",
      "2                  NaT    0.0             belum                 NaT     0.0   \n",
      "3                  NaT    0.0             belum                 NaT     0.0   \n",
      "4  2024-04-25 09:04:04    0.0             belum                 NaT     0.0   \n",
      "\n",
      "  waktu_pesanan_selesai  \n",
      "0                   NaT  \n",
      "1                   NaT  \n",
      "2                   NaT  \n",
      "3                   NaT  \n",
      "4                   NaT  \n"
     ]
    },
    {
     "name": "stderr",
     "output_type": "stream",
     "text": [
      "C:\\Users\\User\\AppData\\Local\\Temp\\ipykernel_3108\\3078388771.py:6: UserWarning: pandas only supports SQLAlchemy connectable (engine/connection) or database string URI or sqlite3 DBAPI2 connection. Other DBAPI2 objects are not tested. Please consider using SQLAlchemy.\n",
      "  result_dataFrame = pd.read_sql(query,mydb)\n"
     ]
    }
   ],
   "source": [
    "import mysql.connector as connection\n",
    "import pandas as pd\n",
    "try:\n",
    "    mydb = connection.connect(host=\"localhost\", database = 'pbll',user=\"root\", passwd=\"\",use_pure=True)\n",
    "    query = \"Select * from pesanan;\"\n",
    "    result_dataFrame = pd.read_sql(query,mydb)\n",
    "    print(result_dataFrame.head())\n",
    "    mydb.close() #close the connection\n",
    "except Exception as e:\n",
    "    mydb.close()\n",
    "    print(str(e))"
   ]
  },
  {
   "cell_type": "code",
   "execution_count": 20,
   "metadata": {},
   "outputs": [
    {
     "name": "stdout",
     "output_type": "stream",
     "text": [
      "   id  id_jenis_layanan  id_pelanggan  id_status_laundry  total_harga  \\\n",
      "0   2                 5             3                  3            0   \n",
      "1   3                 6             5                  1            0   \n",
      "2   4                 6             4                  1            0   \n",
      "3   5                 7             6                  2            0   \n",
      "4   6                 4             4                  1            0   \n",
      "\n",
      "  waktu_pesanan_datang  berat status_pembayaran    estimasi_selesai  diskon  \\\n",
      "0  2024-03-17 09:03:04    0.0             belum 2025-01-29 08:01:44     0.0   \n",
      "1                  NaT    0.0             belum 2025-06-19 06:06:54     0.0   \n",
      "2                  NaT    0.0             belum                 NaT     0.0   \n",
      "3                  NaT    0.0             belum                 NaT     0.0   \n",
      "4  2024-04-25 09:04:04    0.0             belum                 NaT     0.0   \n",
      "\n",
      "  waktu_pesanan_selesai  \n",
      "0                   NaT  \n",
      "1                   NaT  \n",
      "2                   NaT  \n",
      "3                   NaT  \n",
      "4                   NaT  \n"
     ]
    },
    {
     "name": "stderr",
     "output_type": "stream",
     "text": [
      "C:\\Users\\User\\AppData\\Local\\Temp\\ipykernel_3108\\2388088143.py:7: UserWarning: pandas only supports SQLAlchemy connectable (engine/connection) or database string URI or sqlite3 DBAPI2 connection. Other DBAPI2 objects are not tested. Please consider using SQLAlchemy.\n",
      "  result_dataFrame = pd.read_sql(query,mydb)\n"
     ]
    }
   ],
   "source": [
    "import mysql.connector as connection\n",
    "import pandas as pd\n",
    "try:\n",
    "    mydb = connection.connect(host=\"localhost\", database = 'pbll',user=\"root\", passwd=\"\",use_pure=True)\n",
    "    \n",
    "    query = \"Select * from pesanan;\"\n",
    "    result_dataFrame = pd.read_sql(query,mydb)\n",
    "    print(result_dataFrame.head())\n",
    "    result_dataFrame.to_csv('pesananLaundry.csv')\n",
    "    mydb.close() #close the connection\n",
    "except Exception as e:\n",
    "    mydb.close()\n",
    "    print(str(e))"
   ]
  }
 ],
 "metadata": {
  "kernelspec": {
   "display_name": "Python 3",
   "language": "python",
   "name": "python3"
  },
  "language_info": {
   "codemirror_mode": {
    "name": "ipython",
    "version": 3
   },
   "file_extension": ".py",
   "mimetype": "text/x-python",
   "name": "python",
   "nbconvert_exporter": "python",
   "pygments_lexer": "ipython3",
   "version": "3.12.5"
  }
 },
 "nbformat": 4,
 "nbformat_minor": 2
}
