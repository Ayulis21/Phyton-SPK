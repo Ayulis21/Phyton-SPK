{
 "cells": [
  {
   "cell_type": "code",
   "execution_count": 170,
   "metadata": {},
   "outputs": [
    {
     "data": {
      "text/html": [
       "<div>\n",
       "<style scoped>\n",
       "    .dataframe tbody tr th:only-of-type {\n",
       "        vertical-align: middle;\n",
       "    }\n",
       "\n",
       "    .dataframe tbody tr th {\n",
       "        vertical-align: top;\n",
       "    }\n",
       "\n",
       "    .dataframe thead th {\n",
       "        text-align: right;\n",
       "    }\n",
       "</style>\n",
       "<table border=\"1\" class=\"dataframe\">\n",
       "  <thead>\n",
       "    <tr style=\"text-align: right;\">\n",
       "      <th></th>\n",
       "      <th>Unnamed: 0.1</th>\n",
       "      <th>Unnamed: 0</th>\n",
       "      <th>title</th>\n",
       "      <th>kategori</th>\n",
       "      <th>penilaian_ulasan</th>\n",
       "      <th>operating_hours_per_week</th>\n",
       "      <th>distance_km</th>\n",
       "    </tr>\n",
       "  </thead>\n",
       "  <tbody>\n",
       "    <tr>\n",
       "      <th>0</th>\n",
       "      <td>1</td>\n",
       "      <td>26</td>\n",
       "      <td>Laundry88</td>\n",
       "      <td>Laundry</td>\n",
       "      <td>4.7</td>\n",
       "      <td>84.0</td>\n",
       "      <td>2.586678</td>\n",
       "    </tr>\n",
       "    <tr>\n",
       "      <th>1</th>\n",
       "      <td>2</td>\n",
       "      <td>27</td>\n",
       "      <td>Laundry Club Gegerkalong (Laundry Antar Jemput)</td>\n",
       "      <td>Laundry</td>\n",
       "      <td>4.9</td>\n",
       "      <td>91.0</td>\n",
       "      <td>6.632171</td>\n",
       "    </tr>\n",
       "    <tr>\n",
       "      <th>2</th>\n",
       "      <td>3</td>\n",
       "      <td>28</td>\n",
       "      <td>Waroenk Laundry Tubagus Ismail</td>\n",
       "      <td>Laundry</td>\n",
       "      <td>4.3</td>\n",
       "      <td>98.0</td>\n",
       "      <td>3.578865</td>\n",
       "    </tr>\n",
       "    <tr>\n",
       "      <th>3</th>\n",
       "      <td>4</td>\n",
       "      <td>34</td>\n",
       "      <td>Sorcha Laundry Kosambi (Laundry Antar Jemput B...</td>\n",
       "      <td>Laundry</td>\n",
       "      <td>5.0</td>\n",
       "      <td>91.0</td>\n",
       "      <td>0.956055</td>\n",
       "    </tr>\n",
       "  </tbody>\n",
       "</table>\n",
       "</div>"
      ],
      "text/plain": [
       "   Unnamed: 0.1  Unnamed: 0  \\\n",
       "0             1          26   \n",
       "1             2          27   \n",
       "2             3          28   \n",
       "3             4          34   \n",
       "\n",
       "                                               title kategori  \\\n",
       "0                                          Laundry88  Laundry   \n",
       "1    Laundry Club Gegerkalong (Laundry Antar Jemput)  Laundry   \n",
       "2                     Waroenk Laundry Tubagus Ismail  Laundry   \n",
       "3  Sorcha Laundry Kosambi (Laundry Antar Jemput B...  Laundry   \n",
       "\n",
       "   penilaian_ulasan  operating_hours_per_week  distance_km  \n",
       "0               4.7                      84.0     2.586678  \n",
       "1               4.9                      91.0     6.632171  \n",
       "2               4.3                      98.0     3.578865  \n",
       "3               5.0                      91.0     0.956055  "
      ]
     },
     "execution_count": 170,
     "metadata": {},
     "output_type": "execute_result"
    }
   ],
   "source": [
    "import numpy as np\n",
    "import pandas as pd\n",
    "\n",
    "# membaca file csv\n",
    "df = pd.read_csv(\"datasetfix.csv\")\n",
    "# menampilkan seluruh kolom yang tersedia\n",
    "pd.set_option('display.max_columns', None)\n",
    "df.head()"
   ]
  },
  {
   "cell_type": "code",
   "execution_count": 171,
   "metadata": {},
   "outputs": [
    {
     "data": {
      "text/plain": [
       "array([[1.        , 0.5       , 3.        ],\n",
       "       [2.        , 1.        , 4.        ],\n",
       "       [0.33333333, 0.25      , 1.        ]])"
      ]
     },
     "execution_count": 171,
     "metadata": {},
     "output_type": "execute_result"
    }
   ],
   "source": [
    "# Mendefinisikan kriteria\n",
    "kriteria = ['penilaian_ulasan', 'operating_hours_per_week', 'distance_km']\n",
    "\n",
    "# Mendefinisikan matriks perbandingan berpasangan untuk kriteria\n",
    "kriteria_matrik = np.array([\n",
    "    [1, 1/2, 3],\n",
    "    [2, 1, 4],\n",
    "    [1/3, 1/4, 1]\n",
    "])\n",
    "kriteria_matrik"
   ]
  },
  {
   "cell_type": "code",
   "execution_count": 172,
   "metadata": {},
   "outputs": [],
   "source": [
    "# Normalisasi matriks perbandingan berpasangan\n",
    "def normalisasi_matrik(matrik):\n",
    "    jumlah_kolom = np.sum(matrik, axis=0)\n",
    "    return matrik / jumlah_kolom"
   ]
  },
  {
   "cell_type": "code",
   "execution_count": null,
   "metadata": {},
   "outputs": [
    {
     "name": "stdout",
     "output_type": "stream",
     "text": [
      "Vektor Eigen Utama (Bobot): [0.30141844+0.j 0.57092199+0.j 0.12765957+0.j]\n"
     ]
    }
   ],
   "source": [
    "# Normalisasi dan menghitung bobot kriteria\n",
    "norm_kriteria_matrik = normalisasi_matrik(kriteria_matrik)\n",
    "nilai_eigen, vektor_eigen = np.linalg.eig(norm_kriteria_matrik)\n",
    "\n",
    "vektor_eigen_utama = vektor_eigen[:, np.argmax(nilai_eigen)]\n",
    "vektor_eigen_utama /= np.sum(vektor_eigen_utama)  # Normalisasi\n",
    "\n",
    "print(\"Vektor Eigen Utama (Bobot):\", vektor_eigen_utama)"
   ]
  },
  {
   "cell_type": "code",
   "execution_count": null,
   "metadata": {},
   "outputs": [],
   "source": [
    "# Fungsi untuk menghitung Indeks Konsistensi (CI)\n",
    "def menghitung_ci(matrix, vektor_eigen):\n",
    "    n = matrix.shape[0]\n",
    "    lambda_max = np.max(np.linalg.eigvals(matrix))\n",
    "    ci = (lambda_max - n) / (n - 1)\n",
    "    return ci\n",
    "\n",
    "# Fungsi untuk menghitung Rasio Konsistensi (CR)\n",
    "def menghitung_cr(ci, ri):\n",
    "    cr = ci / ri\n",
    "    return cr"
   ]
  },
  {
   "cell_type": "code",
   "execution_count": null,
   "metadata": {},
   "outputs": [],
   "source": [
    "# Indeks Acak (RI) untuk n=3 adalah 0.58\n",
    "ri_kriteria = 0.58\n",
    "\n",
    "# Menghitung CI dan CR untuk kriteria\n",
    "ci_kriteria = menghitung_ci(kriteria_matrik, vektor_eigen_utama)\n",
    "cr_kriteria = menghitung_cr(ci_kriteria, ri_kriteria)"
   ]
  },
  {
   "cell_type": "code",
   "execution_count": 176,
   "metadata": {},
   "outputs": [],
   "source": [
    "# Mendapatkan nilai dari dataset untuk tiap kriteria dan alternatif\n",
    "alternatives = df['title'].tolist()  # Mengambil nama alternatif\n",
    "review_ratings = df['penilaian_ulasan'].values\n",
    "operating_hours = df['operating_hours_per_week'].values\n",
    "distances = df['distance_km'].values"
   ]
  },
  {
   "cell_type": "code",
   "execution_count": 177,
   "metadata": {},
   "outputs": [],
   "source": [
    "# Mengonversi data ke dalam bentuk matriks perbandingan untuk setiap kriteria\n",
    "matrik_review = np.array([\n",
    "    review_ratings / review_ratings[j] for j in range(len(review_ratings))\n",
    "])\n",
    "matrik_hours = np.array([\n",
    "    operating_hours / operating_hours[j] for j in range(len(operating_hours))\n",
    "])\n",
    "matrik_distance = np.array([\n",
    "    distances / distances[j] for j in range(len(distances))\n",
    "])"
   ]
  },
  {
   "cell_type": "code",
   "execution_count": 178,
   "metadata": {},
   "outputs": [],
   "source": [
    "# Matriks Penilaian Ulasan\n",
    "matrik_review = np.array([\n",
    "    [1, 1/2, 4, 1/3],\n",
    "    [2, 1, 6, 1/2],\n",
    "    [1/4, 1/6, 1, 1/7],\n",
    "    [3, 2, 7, 1]\n",
    "])\n",
    "\n",
    "# Jam Operasional per Minggu\n",
    "matrik_hours = np.array([\n",
    "    [1, 1/3, 1/7, 1/5],\n",
    "    [3, 1, 1/5, 1/4],\n",
    "    [7, 5, 1, 3],\n",
    "    [5, 4, 1/3, 1]\n",
    "])\n",
    "\n",
    "# Jarak (semakin rendah semakin baik)\n",
    "matrik_distance = np.array([\n",
    "    [1, 3, 5, 7],\n",
    "    [1/3, 1, 3, 5],\n",
    "    [1/5, 1/3, 1, 3],\n",
    "    [1/7, 1/5, 1/3, 1]\n",
    "])\n",
    "\n",
    "# Normalisasi dan hitung eigenvector untuk masing-masing matriks\n",
    "norm_review = normalisasi_matrik(matrik_review)\n",
    "nilai_eigen_review, vektor_eigen_review = np.linalg.eig(norm_review)\n",
    "vektor_eigen_utama_review = vektor_eigen_review[:, np.argmax(nilai_eigen_review)]\n",
    "vektor_eigen_utama_review /= np.sum(vektor_eigen_utama_review)\n",
    "\n",
    "norm_hours = normalisasi_matrik(matrik_hours)\n",
    "nilai_eigen_hours, vektor_eigen_hours = np.linalg.eig(norm_hours)\n",
    "vektor_eigen_utama_hours = vektor_eigen_hours[:, np.argmax(nilai_eigen_hours)]\n",
    "vektor_eigen_utama_hours /= np.sum(vektor_eigen_utama_hours)\n",
    "\n",
    "norm_distance = normalisasi_matrik(matrik_distance)\n",
    "nilai_eigen_distance, vektor_eigen_distance = np.linalg.eig(norm_distance)\n",
    "vektor_eigen_utama_distance = vektor_eigen_distance[:, np.argmax(nilai_eigen_distance)]\n",
    "vektor_eigen_utama_distance /= np.sum(vektor_eigen_utama_distance)"
   ]
  },
  {
   "cell_type": "code",
   "execution_count": 179,
   "metadata": {},
   "outputs": [],
   "source": [
    "# Menghitung skor akhir untuk setiap alternatif berdasarkan bobot kriteria\n",
    "skor_akhir = (\n",
    "    vektor_eigen_utama_review * vektor_eigen_utama[0] +\n",
    "    vektor_eigen_utama_hours * vektor_eigen_utama[1] +\n",
    "    vektor_eigen_utama_distance * vektor_eigen_utama[2]\n",
    ")"
   ]
  },
  {
   "cell_type": "code",
   "execution_count": 180,
   "metadata": {},
   "outputs": [
    {
     "name": "stdout",
     "output_type": "stream",
     "text": [
      "Bobot Akhir: [0.1636447 +0.j 0.17236797+0.j 0.36984836+0.j 0.29413896+0.j]\n",
      "Urutan Alternatif: ['Waroenk Laundry Tubagus Ismail', 'Sorcha Laundry Kosambi (Laundry Antar Jemput Bandung)', 'Laundry Club Gegerkalong (Laundry Antar Jemput)', 'Laundry88']\n",
      "\n",
      "Indeks Konsistensi Review (CI): (0.015632005844133563+0j)\n",
      "Rasio Konsistensi Review (CR): (0.026951734214023384+0j)\n",
      "\n",
      "Indeks Konsistensi Hours (CI): (0.05694333232534691+0j)\n",
      "Rasio Konsistensi Hours (CR): (0.06327036925038546+0j)\n",
      "\n",
      "Indeks Konsistensi Distance (CI): (0.03899414781575672+0j)\n",
      "Rasio Konsistensi Distance (CR): (0.04332683090639636+0j)\n",
      "\n"
     ]
    }
   ],
   "source": [
    "# Mengurutkan alternatif berdasarkan skor akhir\n",
    "rank_alternatif = [alternatives[i] for i in np.argsort(skor_akhir)[::-1]]\n",
    "\n",
    "print(\"Bobot Akhir:\", skor_akhir)\n",
    "print(\"Urutan Alternatif:\", rank_alternatif)\n",
    "print()\n",
    "\n",
    "# Menghitung CI dan CR untuk setiap kriteria\n",
    "ci_review = menghitung_ci(matrik_review, vektor_eigen_utama_review)\n",
    "cr_review = menghitung_cr(ci_review, 0.58)  # RI untuk n=4 adalah 0.9\n",
    "print(\"Indeks Konsistensi Review (CI):\", ci_review)\n",
    "print(\"Rasio Konsistensi Review (CR):\", cr_review)\n",
    "print()\n",
    "\n",
    "ci_hours = menghitung_ci(matrik_hours, vektor_eigen_utama_hours)\n",
    "cr_hours = menghitung_cr(ci_hours, 0.9)  # RI untuk n=4 adalah 0.9\n",
    "print(\"Indeks Konsistensi Hours (CI):\", ci_hours)\n",
    "print(\"Rasio Konsistensi Hours (CR):\", cr_hours)\n",
    "print()\n",
    "\n",
    "ci_distance = menghitung_ci(matrik_distance, vektor_eigen_utama_distance)\n",
    "cr_distance = menghitung_cr(ci_distance, 0.9)  # RI untuk n=4 adalah 0.9\n",
    "print(\"Indeks Konsistensi Distance (CI):\", ci_distance)\n",
    "print(\"Rasio Konsistensi Distance (CR):\", cr_distance)\n",
    "print()"
   ]
  }
 ],
 "metadata": {
  "kernelspec": {
   "display_name": "Python 3",
   "language": "python",
   "name": "python3"
  },
  "language_info": {
   "codemirror_mode": {
    "name": "ipython",
    "version": 3
   },
   "file_extension": ".py",
   "mimetype": "text/x-python",
   "name": "python",
   "nbconvert_exporter": "python",
   "pygments_lexer": "ipython3",
   "version": "3.12.6"
  }
 },
 "nbformat": 4,
 "nbformat_minor": 2
}
